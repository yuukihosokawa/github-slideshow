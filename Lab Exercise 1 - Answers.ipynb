{
 "cells": [
  {
   "cell_type": "code",
   "execution_count": 2,
   "metadata": {},
   "outputs": [
    {
     "name": "stdout",
     "output_type": "stream",
     "text": [
      "GC Content: 0.416667\n"
     ]
    }
   ],
   "source": [
    "dna_seq = 'ATGGGTGCGAGAGCGTCAGTATTAAGCGGGGGAGAATTAGATCGATGGGAAAAAATTCGGTTAAGGCCAGGGGGAAAGAAAAAATATAAATTAAAACATA' + \\\n",
    "          'TAGTATGGGCAAGCAGGGAGCTAGAACGATTCGCAGTTAATCCTGGCCTGTTAGAAACATCAGAAGGCTGTAGACAAATACTGGGACAGCTACAACCATC' + \\\n",
    "          'CCTTCAGACAGGATCAGAAGAACTTAGATCATTATATAATACAGTAGCAACCCTCTATTGTGTGCATCAAAGGATAGAGATAAAAGACACCAAGGAAGCT'\n",
    "\n",
    "gc_content = (dna_seq.count('G') + dna_seq.count('C')) / len(dna_seq)\n",
    "print('GC Content: %f' % gc_content)"
   ]
  },
  {
   "cell_type": "code",
   "execution_count": 2,
   "metadata": {},
   "outputs": [
    {
     "name": "stdout",
     "output_type": "stream",
     "text": [
      "MGARASVLSGGELDRWEKIRLRPGGKKKYKLKHIVWASRELERFAVNPGLLETSEGCRQILGQLQPSLQTGSEELRSLYNTVATLYCVHQRIEIKDTKEA\n"
     ]
    }
   ],
   "source": [
    "CODON_TABLE = {\n",
    "    'UUU': 'F', 'UUC': 'F', 'UUA': 'L', 'UUG': 'L',\n",
    "    'UCU': 'S', 'UCC': 'S', 'UCA': 'S', 'UCG': 'S',\n",
    "    'UAU': 'Y', 'UAC': 'Y', 'UAA': '*', 'UAG': '*',\n",
    "    'UGU': 'C', 'UGC': 'C', 'UGA': '*', 'UGG': 'W',\n",
    "    'CUU': 'L', 'CUC': 'L', 'CUA': 'L', 'CUG': 'L',\n",
    "    'CCU': 'P', 'CCC': 'P', 'CCA': 'P', 'CCG': 'P',\n",
    "    'CAU': 'H', 'CAC': 'H', 'CAA': 'Q', 'CAG': 'Q',\n",
    "    'CGU': 'R', 'CGC': 'R', 'CGA': 'R', 'CGG': 'R',\n",
    "    'AUU': 'I', 'AUC': 'I', 'AUA': 'I', 'AUG': 'M',\n",
    "    'ACU': 'T', 'ACC': 'T', 'ACA': 'T', 'ACG': 'T',\n",
    "    'AAU': 'N', 'AAC': 'N', 'AAA': 'K', 'AAG': 'K',\n",
    "    'AGU': 'S', 'AGC': 'S', 'AGA': 'R', 'AGG': 'R',\n",
    "    'GUU': 'V', 'GUC': 'V', 'GUA': 'V', 'GUG': 'V',\n",
    "    'GCU': 'A', 'GCC': 'A', 'GCA': 'A', 'GCG': 'A',\n",
    "    'GAU': 'D', 'GAC': 'D', 'GAA': 'E', 'GAG': 'E',\n",
    "    'GGU': 'G', 'GGC': 'G', 'GGA': 'G', 'GGG': 'G',\n",
    "}\n",
    "    \n",
    "rna_seq = dna_seq.replace('T', 'U')\n",
    "protein_seq = []\n",
    "\n",
    "for i in range(0, len(dna_seq), 3):\n",
    "\n",
    "    codon = rna_seq[i:(i + 3)]\n",
    "    aa = CODON_TABLE[codon]\n",
    "\n",
    "    if aa == '*':\n",
    "        break\n",
    "    else:\n",
    "        protein_seq.append(aa)\n",
    "\n",
    "protein_seq = ''.join(protein_seq)\n",
    "print(protein_seq)"
   ]
  },
  {
   "cell_type": "code",
   "execution_count": 3,
   "metadata": {},
   "outputs": [
    {
     "name": "stdout",
     "output_type": "stream",
     "text": [
      "{'M': 1, 'G': 9, 'A': 6, 'R': 9, 'S': 7, 'V': 5, 'L': 13, 'E': 10, 'D': 2, 'W': 2, 'K': 8, 'I': 5, 'P': 3, 'Y': 3, 'H': 2, 'F': 1, 'N': 2, 'T': 5, 'C': 2, 'Q': 5}\n",
      "Most frequent amino acid: L (13 occurrences).\n"
     ]
    }
   ],
   "source": [
    "aa_counter = {}\n",
    "\n",
    "for aa in protein_seq:\n",
    "    if aa in aa_counter:\n",
    "        aa_counter[aa] += 1\n",
    "    else:\n",
    "        aa_counter[aa] = 1\n",
    "        \n",
    "print(aa_counter)\n",
    "most_common_aa = None\n",
    "\n",
    "for aa in aa_counter:\n",
    "    if most_common_aa is None or aa_counter[aa] > aa_counter[most_common_aa]:\n",
    "        most_common_aa = aa\n",
    "\n",
    "print('Most frequent amino acid: %s (%d occurrences).' % (most_common_aa, aa_counter[most_common_aa]))"
   ]
  },
  {
   "cell_type": "code",
   "execution_count": 4,
   "metadata": {},
   "outputs": [
    {
     "name": "stdout",
     "output_type": "stream",
     "text": [
      "The sequence has 3 possible start sites.\n",
      "0: MGARASVLSGGELDRWEKIRLRPGGKKKYKLKHIVWASRELERFAVNPGLLETSEGCRQILGQLQPSLQTGSEELRSLYNTVATLYCVHQRIEIKDTKEA (DNA sequqnce of length 300 was translated into 100 amino acids; frame = 0)\n",
      "44: MGKNSVKARGKEKI (DNA sequqnce of length 256 was translated into 14 amino acids; frame = 2)\n",
      "104: MGKQGARTIRS (DNA sequqnce of length 196 was translated into 11 amino acids; frame = 2)\n"
     ]
    }
   ],
   "source": [
    "print('The sequence has %d possible start sites.' % dna_seq.count('ATG'))\n",
    "\n",
    "start_sites = []\n",
    "\n",
    "for i in range(len(dna_seq)):\n",
    "    if dna_seq[i:(i + 3)] == 'ATG':\n",
    "        start_sites.append(i)\n",
    "        \n",
    "for start_site in start_sites:\n",
    "\n",
    "    protein_seq = []\n",
    "\n",
    "    for i in range(start_site, len(dna_seq), 3):\n",
    "\n",
    "        codon = rna_seq[i:(i + 3)]\n",
    "        aa = CODON_TABLE[codon]\n",
    "\n",
    "        if aa == '*':\n",
    "            break\n",
    "        else:\n",
    "            protein_seq += aa\n",
    "\n",
    "    protein_seq = ''.join(protein_seq)\n",
    "    print('%d: %s (DNA sequqnce of length %d was translated into %d amino acids; frame = %d)' % (start_site, protein_seq, \\\n",
    "            len(dna_seq) - start_site, len(protein_seq), start_site % 3))"
   ]
  },
  {
   "cell_type": "code",
   "execution_count": 5,
   "metadata": {},
   "outputs": [
    {
     "name": "stdout",
     "output_type": "stream",
     "text": [
      "The Zen of Python, by Tim Peters\n",
      "\n",
      "Beautiful is better than ugly.\n",
      "Explicit is better than implicit.\n",
      "Simple is better than complex.\n",
      "Complex is better than complicated.\n",
      "Flat is better than nested.\n",
      "Sparse is better than dense.\n",
      "Readability counts.\n",
      "Special cases aren't special enough to break the rules.\n",
      "Although practicality beats purity.\n",
      "Errors should never pass silently.\n",
      "Unless explicitly silenced.\n",
      "In the face of ambiguity, refuse the temptation to guess.\n",
      "There should be one-- and preferably only one --obvious way to do it.\n",
      "Although that way may not be obvious at first unless you're Dutch.\n",
      "Now is better than never.\n",
      "Although never is often better than *right* now.\n",
      "If the implementation is hard to explain, it's a bad idea.\n",
      "If the implementation is easy to explain, it may be a good idea.\n",
      "Namespaces are one honking great idea -- let's do more of those!\n"
     ]
    }
   ],
   "source": [
    "import this"
   ]
  }
 ],
 "metadata": {
  "kernelspec": {
   "display_name": "Python 3",
   "language": "python",
   "name": "python3"
  },
  "language_info": {
   "codemirror_mode": {
    "name": "ipython",
    "version": 3
   },
   "file_extension": ".py",
   "mimetype": "text/x-python",
   "name": "python",
   "nbconvert_exporter": "python",
   "pygments_lexer": "ipython3",
   "version": "3.7.6"
  }
 },
 "nbformat": 4,
 "nbformat_minor": 1
}
